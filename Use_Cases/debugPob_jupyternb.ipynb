{
 "cells": [
  {
   "cell_type": "code",
   "execution_count": 1,
   "id": "7875cfce",
   "metadata": {},
   "outputs": [],
   "source": [
    "import sys\n",
    "sys.path.append('/Users/peterdalloz/Dropbox/PYTHONDROPBOX/pobshell')\n",
    "import pob"
   ]
  },
  {
   "cell_type": "code",
   "execution_count": 2,
   "id": "c6e17364",
   "metadata": {},
   "outputs": [],
   "source": [
    "import pandas as pd  "
   ]
  },
  {
   "cell_type": "code",
   "execution_count": 3,
   "id": "98a2a769",
   "metadata": {},
   "outputs": [],
   "source": [
    "data = pd.DataFrame({\"x1\":[\"y\", \"x\", \"y\", \"x\", \"x\", \"y\"],  # Construct a pandas DataFrame\n",
    "                     \"x2\":range(16, 22),\n",
    "                     \"x3\":range(1, 7),\n",
    "                     \"x4\":[\"a\", \"b\", \"c\", \"d\", \"e\", \"f\"],\n",
    "                     \"x5\":range(30, 24, - 1)})\n"
   ]
  },
  {
   "cell_type": "code",
   "execution_count": 5,
   "id": "494bd8d9",
   "metadata": {
    "scrolled": false
   },
   "outputs": [
    {
     "name": "stdout",
     "output_type": "stream",
     "text": [
      "\n",
      "ɘmoɔlɘW to pobshell. Type '\u001b[1mhelp\u001b[22m' for instructions, or 'exit' to quit\n",
      "ls -l\n",
      "\u001b[97mIn                       \u001b[39m  ['', \"import sys\\nsys.path.append('/Users/pet…\u001b[34m  <class 'list'>\u001b[39m\n",
      "\u001b[97mOut                      \u001b[39m  {}\u001b[34m  <class 'dict'>\u001b[39m\n",
      "\u001b[97mdata                     \u001b[39m    x1  x2  x3 x4  x5 0  y  16   1  a  30 1  x …\u001b[34m  <class 'pandas.core.fram…\u001b[39m\n",
      "\u001b[97mexit                     \u001b[39m  <IPython.core.autocall.ZMQExitAutocall object…\u001b[34m  <class 'IPython.core.aut…\u001b[39m\n",
      "\u001b[97mget_ipython              \u001b[39m  <bound method InteractiveShell.get_ipython of…\u001b[34m  <class 'method'>\u001b[39m\n",
      "\u001b[97mopen                     \u001b[39m  <function open at 0x7fd70e8eeb90>\u001b[34m  <class 'function'>\u001b[39m\n",
      "\u001b[97mpd                       \u001b[39m  <module 'pandas' from '/opt/anaconda3/envs/Ba…\u001b[34m  <class 'module'>\u001b[39m\n",
      "\u001b[97mquit                     \u001b[39m  <IPython.core.autocall.ZMQExitAutocall object…\u001b[34m  <class 'IPython.core.aut…\u001b[39m\n",
      "\u001b[97msys                      \u001b[39m  <module 'sys' (built-in)>\u001b[34m  <class 'module'>\u001b[39m\n",
      "cd data \n",
      "ls\n",
      "T               cov                head              merge           rfloordiv      to_feather    xs\n",
      "abs             cummax             hist              min             rmod           to_gbq      \n",
      "add             cummin             iat               mod             rmul           to_hdf      \n",
      "add_prefix      cumprod            idxmax            mode            rolling        to_html     \n",
      "add_suffix      cumsum             idxmin            mul             round          to_json     \n",
      "agg             describe           iloc              multiply        rpow           to_latex    \n",
      "aggregate       diff               index             ndim            rsub           to_markdown \n",
      "align           div                infer_objects     ne              rtruediv       to_numpy    \n",
      "all             divide             info              nlargest        sample         to_orc      \n",
      "any             dot                insert            notna           select_dtypes  to_parquet  \n",
      "append          drop               interpolate       notnull         sem            to_period   \n",
      "apply           drop_duplicates    isetitem          nsmallest       set_axis       to_pickle   \n",
      "applymap        droplevel          isin              nunique         set_flags      to_records  \n",
      "asfreq          dropna             isna              pad             set_index      to_sql      \n",
      "asof            dtypes             isnull            pct_change      shape          to_stata    \n",
      "assign          duplicated         items             pipe            shift          to_string   \n",
      "astype          empty              iteritems         pivot           size           to_timestamp\n",
      "at              eq                 iterrows          pivot_table     skew           to_xarray   \n",
      "at_time         equals             itertuples        plot            slice_shift    to_xml      \n",
      "attrs           eval               join              pop             sort_index     transform   \n",
      "axes            ewm                keys              pow             sort_values    transpose   \n",
      "backfill        expanding          kurt              prod            squeeze        truediv     \n",
      "between_time    explode            kurtosis          product         stack          truncate    \n",
      "bfill           ffill              last              quantile        std            tz_convert  \n",
      "bool            fillna             last_valid_index  query           style          tz_localize \n",
      "boxplot         filter             le                radd            sub            unstack     \n",
      "clip            first              loc               rank            subtract       update      \n",
      "columns         first_valid_index  lookup            rdiv            sum            value_counts\n",
      "combine         flags              lt                reindex         swapaxes       values      \n",
      "combine_first   floordiv           mad               reindex_like    swaplevel      var         \n",
      "compare         from_dict          mask              rename          tail           where       \n",
      "convert_dtypes  from_records       max               rename_axis     take           x1          \n",
      "copy            ge                 mean              reorder_levels  to_clipboard   x2          \n",
      "corr            get                median            replace         to_csv         x3          \n",
      "corrwith        groupby            melt              resample        to_dict        x4          \n",
      "count           gt                 memory_usage      reset_index     to_excel       x5          \n",
      "help map\n",
      "usage: map [-h] [-q] [{CODE,DATA,EVERYTHING}]\n",
      "\n",
      "Change how pob maps from python objects to directory entries, or show current logic\n",
      "\n",
      "positional arguments:\n",
      "  {CODE,DATA,EVERYTHING}\n",
      "                        DATA: exclude functions and methods    CODE: exclude collection contents    EVERYTHING: exclude nothing\n",
      "\n",
      "options:\n",
      "  -h, --help            show this help message and exit\n",
      "  -q, --quiet           don't echo preset change to output\n",
      "\n",
      "    Notes: \n",
      "    Choose CODE, DATA or EVERYTHING\n",
      "       CODE: Exclude collection contents\n",
      "       DATA: Exclude functions and methods\n",
      "       EVERYTHING: Exclude nothing\n",
      "    \n",
      "map DATA\n",
      "Map preset - was: EVERYTHING\n",
      "now: \u001b[1mDATA\u001b[22m \n",
      "ls\n",
      "T   attrs  columns  empty  iat   index  ndim  shape  style   x1  x3  x5\n",
      "at  axes   dtypes   flags  iloc  loc    plot  size   values  x2  x4\n",
      "ls -l\n",
      "\u001b[97mT                        \u001b[39m       0   1   2   3   4   5 x1   y   x   y   x…\u001b[34m  <class 'pandas.core.fram…\u001b[39m\n",
      "\u001b[97mat                       \u001b[39m  <pandas.core.indexing._AtIndexer object at 0x…\u001b[34m  <class 'pandas.core.inde…\u001b[39m\n",
      "\u001b[97mattrs                    \u001b[39m  {}\u001b[34m  <class 'dict'>\u001b[39m\n",
      "\u001b[97maxes                     \u001b[39m  [RangeIndex(start=0, stop=6, step=1), Index([…\u001b[34m  <class 'list'>\u001b[39m\n",
      "\u001b[97mcolumns                  \u001b[39m  Index(['x1', 'x2', 'x3', 'x4', 'x5'], dtype='…\u001b[34m  <class 'pandas.core.inde…\u001b[39m\n",
      "\u001b[97mdtypes                   \u001b[39m  x1    object x2     int64 x3     int64 x4    …\u001b[34m  <class 'pandas.core.seri…\u001b[39m\n",
      "\u001b[97mempty                    \u001b[39m  False\u001b[34m  <class 'bool'>\u001b[39m\n",
      "\u001b[97mflags                    \u001b[39m  <Flags(allows_duplicate_labels=True)>\u001b[34m  <class 'pandas.core.flags.Flags'>\u001b[39m\n",
      "\u001b[97miat                      \u001b[39m  <pandas.core.indexing._iAtIndexer object at 0…\u001b[34m  <class 'pandas.core.inde…\u001b[39m\n",
      "\u001b[97miloc                     \u001b[39m  <pandas.core.indexing._iLocIndexer object at …\u001b[34m  <class 'pandas.core.inde…\u001b[39m\n",
      "\u001b[97mindex                    \u001b[39m  RangeIndex(start=0, stop=6, step=1)\u001b[34m  <class 'pandas.core.indexes.range.R…\u001b[39m\n",
      "\u001b[97mloc                      \u001b[39m  <pandas.core.indexing._LocIndexer object at 0…\u001b[34m  <class 'pandas.core.inde…\u001b[39m\n",
      "\u001b[97mndim                     \u001b[39m  2\u001b[34m  <class 'int'>\u001b[39m\n",
      "\u001b[97mplot                     \u001b[39m  <pandas.plotting._core.PlotAccessor object at…\u001b[34m  <class 'pandas.plotting.…\u001b[39m\n",
      "\u001b[97mshape                    \u001b[39m  (6, 5)\u001b[34m  <class 'tuple'>\u001b[39m\n",
      "\u001b[97msize                     \u001b[39m  30\u001b[34m  <class 'numpy.int64'>\u001b[39m\n",
      "\u001b[97mstyle                    \u001b[39m  <pandas.io.formats.style.Styler object at 0x7…\u001b[34m  <class 'pandas.io.format…\u001b[39m\n",
      "\u001b[97mvalues                   \u001b[39m  array([['y', 16, 1, 'a', 30],        ['x', 17…\u001b[34m  <class 'numpy.ndarray'>\u001b[39m\n",
      "\u001b[97mx1                       \u001b[39m  0    y 1    x 2    y 3    x 4    x 5    y Nam…\u001b[34m  <class 'pandas.core.seri…\u001b[39m\n",
      "\u001b[97mx2                       \u001b[39m  0    16 1    17 2    18 3    19 4    20 5    …\u001b[34m  <class 'pandas.core.seri…\u001b[39m\n",
      "\u001b[97mx3                       \u001b[39m  0    1 1    2 2    3 3    4 4    5 5    6 Nam…\u001b[34m  <class 'pandas.core.seri…\u001b[39m\n",
      "\u001b[97mx4                       \u001b[39m  0    a 1    b 2    c 3    d 4    e 5    f Nam…\u001b[34m  <class 'pandas.core.seri…\u001b[39m\n",
      "\u001b[97mx5                       \u001b[39m  0    30 1    29 2    28 3    27 4    26 5    …\u001b[34m  <class 'pandas.core.seri…\u001b[39m\n",
      "exit\n"
     ]
    },
    {
     "name": "stderr",
     "output_type": "stream",
     "text": [
      "Exiting pobshell\n"
     ]
    }
   ],
   "source": [
    "pob.shell()"
   ]
  },
  {
   "cell_type": "code",
   "execution_count": 3,
   "id": "d84eb2c2",
   "metadata": {},
   "outputs": [
    {
     "name": "stdout",
     "output_type": "stream",
     "text": [
      "\u001b[97mIn                       \u001b[39m  ['', 'pob.shell()', \"import sys\\nsys.path.app…\u001b[34m  <class 'list'>\u001b[39m\n",
      "\u001b[97mOut                      \u001b[39m  {}\u001b[34m  <class 'dict'>\u001b[39m\n",
      "\u001b[97mexit                     \u001b[39m  <IPython.core.autocall.ZMQExitAutocall object…\u001b[34m  <class 'IPython.core.aut…\u001b[39m\n",
      "\u001b[97mget_ipython              \u001b[39m  <bound method InteractiveShell.get_ipython of…\u001b[34m  <class 'method'>\u001b[39m\n",
      "\u001b[97mpydev_jupyter_vars       \u001b[39m  <module 'pydev_jupyter_vars' from '/Applicati…\u001b[34m  <class 'module'>\u001b[39m\n",
      "\u001b[97mquit                     \u001b[39m  <IPython.core.autocall.ZMQExitAutocall object…\u001b[34m  <class 'IPython.core.aut…\u001b[39m\n",
      "\u001b[97mremove_imported_pydev_package\u001b[39m  <function remove_imported_pydev_package a…\u001b[34m  <class 'function'>\u001b[39m\n",
      "\u001b[97msys                      \u001b[39m  <module 'sys' (built-in)>\u001b[34m  <class 'module'>\u001b[39m\n"
     ]
    }
   ],
   "source": [
    "pob.shell(interactive=False).cmd('ls -l')"
   ]
  },
  {
   "cell_type": "code",
   "execution_count": 5,
   "id": "5c108ec9",
   "metadata": {},
   "outputs": [
    {
     "name": "stdout",
     "output_type": "stream",
     "text": [
      "/\n"
     ]
    }
   ],
   "source": [
    "pob.shell(interactive=False).cmd('pwd')"
   ]
  },
  {
   "cell_type": "code",
   "execution_count": 9,
   "id": "b4bbad3d",
   "metadata": {
    "pycharm": {
     "name": "#%%\n"
    }
   },
   "outputs": [
    {
     "name": "stdout",
     "output_type": "stream",
     "text": [
      "/sys\n",
      "abiflags                             getdefaultencoding         path_importer_cache                \n",
      "addaudithook                         getdlopenflags             platform                           \n",
      "api_version                          getfilesystemencodeerrors  platlibdir                         \n",
      "argv                                 getfilesystemencoding      prefix                             \n",
      "audit                                getprofile                 ps1                                \n",
      "base_exec_prefix                     getrecursionlimit          ps2                                \n",
      "base_prefix                          getrefcount                ps3                                \n",
      "breakpointhook                       getsizeof                  pycache_prefix                     \n",
      "builtin_module_names                 getswitchinterval          set_asyncgen_hooks                 \n",
      "byteorder                            gettrace                   set_coroutine_origin_tracking_depth\n",
      "call_tracing                         hash_info                  setdlopenflags                     \n",
      "copyright                            hexversion                 setprofile                         \n",
      "displayhook                          implementation             setrecursionlimit                  \n",
      "dont_write_bytecode                  int_info                   setswitchinterval                  \n",
      "exc_info                             intern                     settrace                           \n",
      "excepthook                           is_finalizing              stderr                             \n",
      "exec_prefix                          last_traceback             stdin                              \n",
      "executable                           last_type                  stdout                             \n",
      "exit                                 last_value                 thread_info                        \n",
      "flags                                maxsize                    unraisablehook                     \n",
      "float_info                           maxunicode                 version                            \n",
      "float_repr_style                     meta_path                  version_info                       \n",
      "get_asyncgen_hooks                   modules                    warnoptions                        \n",
      "get_coroutine_origin_tracking_depth  path                     \n",
      "getallocatedblocks                   path_hooks               \n"
     ]
    }
   ],
   "source": [
    "pob.shell(interactive=False).cmd('cd sys; pwd; ls')"
   ]
  },
  {
   "cell_type": "code",
   "execution_count": 7,
   "id": "a409101f",
   "metadata": {
    "pycharm": {
     "name": "#%%\n"
    }
   },
   "outputs": [
    {
     "name": "stdout",
     "output_type": "stream",
     "text": [
      "/\n"
     ]
    }
   ],
   "source": [
    "pob.shell(interactive=False).cmd('pwd')"
   ]
  },
  {
   "cell_type": "code",
   "execution_count": 10,
   "id": "7b2ec29e",
   "metadata": {
    "pycharm": {
     "name": "#%%\n"
    }
   },
   "outputs": [],
   "source": [
    "sh = pob.shell(interactive=False)"
   ]
  },
  {
   "cell_type": "code",
   "execution_count": 11,
   "id": "5058fc77",
   "metadata": {
    "pycharm": {
     "name": "#%%\n"
    }
   },
   "outputs": [
    {
     "name": "stdout",
     "output_type": "stream",
     "text": [
      "/\n"
     ]
    }
   ],
   "source": [
    "sh.cmd('pwd')"
   ]
  },
  {
   "cell_type": "code",
   "execution_count": 12,
   "id": "2398f610",
   "metadata": {
    "pycharm": {
     "name": "#%%\n"
    }
   },
   "outputs": [],
   "source": [
    "sh.cmd('cd sys')"
   ]
  },
  {
   "cell_type": "code",
   "execution_count": 13,
   "id": "50f2167b",
   "metadata": {
    "pycharm": {
     "name": "#%%\n"
    }
   },
   "outputs": [
    {
     "name": "stdout",
     "output_type": "stream",
     "text": [
      "/sys\n"
     ]
    }
   ],
   "source": [
    "sh.cmd('pwd')"
   ]
  },
  {
   "cell_type": "code",
   "execution_count": null,
   "id": "e18f0f36",
   "metadata": {
    "pycharm": {
     "name": "#%%\n"
    }
   },
   "outputs": [],
   "source": []
  }
 ],
 "metadata": {
  "kernelspec": {
   "display_name": "Python 3 (ipykernel)",
   "language": "python",
   "name": "python3"
  },
  "language_info": {
   "codemirror_mode": {
    "name": "ipython",
    "version": 3
   },
   "file_extension": ".py",
   "mimetype": "text/x-python",
   "name": "python",
   "nbconvert_exporter": "python",
   "pygments_lexer": "ipython3",
   "version": "3.10.11"
  }
 },
 "nbformat": 4,
 "nbformat_minor": 5
}
